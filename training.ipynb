{
  "cells": [
    {
      "cell_type": "code",
      "execution_count": null,
      "id": "56d6b804-e494-472b-ae1e-b5f8305bdc36",
      "metadata": {
        "id": "56d6b804-e494-472b-ae1e-b5f8305bdc36"
      },
      "outputs": [],
      "source": [
        "!mkdir -p /data/sets/nuimages  # Make the directory to store the nuImages dataset in.\n",
        "!wget https://www.nuscenes.org/data/nuimages-v1.0-mini.tgz  # Download the nuImages mini split.\n",
        "!tar -xf nuimages-v1.0-mini.tgz -C /data/sets/nuimages  # Uncompress the nuImages mini split.\n",
        "!pip install lightning numpy nuscenes-devkit pillow torch"
      ]
    },
    {
      "cell_type": "code",
      "source": [
        "!git clone https://github.com/GordonGustafson/semantic-segmentation.git\n",
        "%cd semantic-segmentation/"
      ],
      "metadata": {
        "id": "GZq458ZE0yGp"
      },
      "id": "GZq458ZE0yGp",
      "execution_count": null,
      "outputs": []
    },
    {
      "cell_type": "code",
      "source": [
        "from dataloader import *\n",
        "from nuimages import NuImages\n",
        "\n",
        "from matplotlib import pyplot as plt\n",
        "\n",
        "\n",
        "nuimages = NuImages(dataroot='/data/sets/nuimages', version='v1.0-mini', verbose=True, lazy=True)\n",
        "dataset = NuImagesDataset(nuimages)\n",
        "\n",
        "sem_seg_sample = dataset['0f37924ef2b54da7a233091d95311a38']\n",
        "\n",
        "fig, axs = plt.subplots(2)\n",
        "axs[0].imshow(sem_seg_sample.image, interpolation='nearest')\n",
        "axs[1].imshow(sem_seg_sample.segmentation_mask, interpolation='nearest')\n",
        "fig.show()"
      ],
      "metadata": {
        "id": "mLVM4POj0HdA"
      },
      "id": "mLVM4POj0HdA",
      "execution_count": null,
      "outputs": []
    }
  ],
  "metadata": {
    "kernelspec": {
      "display_name": "Python 3 (ipykernel)",
      "language": "python",
      "name": "python3"
    },
    "language_info": {
      "codemirror_mode": {
        "name": "ipython",
        "version": 3
      },
      "file_extension": ".py",
      "mimetype": "text/x-python",
      "name": "python",
      "nbconvert_exporter": "python",
      "pygments_lexer": "ipython3",
      "version": "3.9.18"
    },
    "colab": {
      "provenance": []
    }
  },
  "nbformat": 4,
  "nbformat_minor": 5
}